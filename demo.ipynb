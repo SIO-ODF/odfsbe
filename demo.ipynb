{
 "cells": [
  {
   "cell_type": "code",
   "execution_count": null,
   "id": "12e648ab-875d-40cc-bfae-0f6ca92de992",
   "metadata": {},
   "outputs": [],
   "source": [
    "from odf.sbe.io import read_hex\n",
    "import odf.sbe.accessors\n",
    "import numpy as np\n",
    "import xarray as xr"
   ]
  },
  {
   "cell_type": "code",
   "execution_count": null,
   "id": "ae002abf-d401-4ba6-9cd0-da56d0a8e7e7",
   "metadata": {},
   "outputs": [],
   "source": [
    "# %%time\n",
    "ds = read_hex(\"00102.hex\")"
   ]
  },
  {
   "cell_type": "markdown",
   "id": "bade3886",
   "metadata": {},
   "source": [
    "### Frequency testing"
   ]
  },
  {
   "cell_type": "code",
   "execution_count": null,
   "id": "a04a52eb-59ce-4aa8-9404-684b351b1622",
   "metadata": {},
   "outputs": [],
   "source": [
    "# The accessor lets you get frequencies like they are an attribtue on sbe\n",
    "ds.sbe.f0"
   ]
  },
  {
   "cell_type": "code",
   "execution_count": null,
   "id": "b93da1f2",
   "metadata": {},
   "outputs": [],
   "source": [
    "# just change the channel number\n",
    "ds.sbe.f3"
   ]
  },
  {
   "cell_type": "code",
   "execution_count": null,
   "id": "85644733",
   "metadata": {},
   "outputs": [],
   "source": [
    "# There are no guard rails right now\n",
    "ds.sbe.f10"
   ]
  },
  {
   "cell_type": "code",
   "execution_count": null,
   "id": "33286700",
   "metadata": {},
   "outputs": [],
   "source": [
    "# volts work the same way\n",
    "ds.sbe.v0"
   ]
  },
  {
   "cell_type": "code",
   "execution_count": null,
   "id": "de257eda",
   "metadata": {},
   "outputs": [],
   "source": [
    "ds.sbe.v7"
   ]
  },
  {
   "cell_type": "code",
   "execution_count": null,
   "id": "f9da0f7c",
   "metadata": {},
   "outputs": [],
   "source": [
    "ds"
   ]
  },
  {
   "cell_type": "markdown",
   "id": "94b117c9",
   "metadata": {},
   "source": [
    "### XMLCON testing"
   ]
  },
  {
   "cell_type": "code",
   "execution_count": null,
   "id": "99e0f0b8",
   "metadata": {},
   "outputs": [],
   "source": [
    "import odf.sbe.parsers as parsers"
   ]
  },
  {
   "cell_type": "code",
   "execution_count": null,
   "id": "d3c9bffb",
   "metadata": {},
   "outputs": [],
   "source": [
    "xmlcon_box, xmlcon_sensors = parsers.parse_xmlcon(ds.xmlcon)"
   ]
  },
  {
   "cell_type": "code",
   "execution_count": null,
   "id": "c20d21c7",
   "metadata": {},
   "outputs": [],
   "source": [
    "ds.xmlcon"
   ]
  },
  {
   "cell_type": "code",
   "execution_count": null,
   "id": "de59bc43",
   "metadata": {},
   "outputs": [],
   "source": [
    "xmlcon_box"
   ]
  },
  {
   "cell_type": "code",
   "execution_count": null,
   "id": "4d0d6d06",
   "metadata": {},
   "outputs": [],
   "source": [
    "xmlcon_sensors.keys()"
   ]
  },
  {
   "cell_type": "code",
   "execution_count": null,
   "id": "81d8a805",
   "metadata": {},
   "outputs": [],
   "source": [
    "ds.bl"
   ]
  },
  {
   "cell_type": "code",
   "execution_count": null,
   "id": "14d4e263",
   "metadata": {},
   "outputs": [],
   "source": [
    "bl, a2 = parsers.parse_bl(ds.bl.item())"
   ]
  },
  {
   "cell_type": "code",
   "execution_count": null,
   "id": "7b6a3844",
   "metadata": {},
   "outputs": [],
   "source": [
    "type(a2)\n"
   ]
  },
  {
   "cell_type": "markdown",
   "id": "e217c70c",
   "metadata": {},
   "source": [
    "### META accessors"
   ]
  },
  {
   "cell_type": "code",
   "execution_count": null,
   "id": "af318697",
   "metadata": {},
   "outputs": [],
   "source": [
    "import odf.sbe.channels as channels"
   ]
  },
  {
   "cell_type": "code",
   "execution_count": null,
   "id": "7259251f",
   "metadata": {},
   "outputs": [],
   "source": [
    "meta_out = channels.metadata_wrapper(ds.hex, xmlcon_box)"
   ]
  },
  {
   "cell_type": "code",
   "execution_count": null,
   "id": "8671a9e9",
   "metadata": {},
   "outputs": [],
   "source": [
    "meta_out"
   ]
  },
  {
   "cell_type": "code",
   "execution_count": null,
   "id": "5fde11d9",
   "metadata": {},
   "outputs": [],
   "source": [
    "x = xr.Dataset({\n",
    "    channel: ds.sbe[channel] for channel in ds.sbe()\n",
    "})"
   ]
  },
  {
   "cell_type": "code",
   "execution_count": null,
   "id": "276439c9",
   "metadata": {},
   "outputs": [],
   "source": [
    "xr.Dataset({channel: ds.sbe[channel] for channel in ds.sbe})"
   ]
  },
  {
   "cell_type": "code",
   "execution_count": null,
   "id": "399da1cd",
   "metadata": {},
   "outputs": [],
   "source": [
    "print(list(ds.sbe))"
   ]
  },
  {
   "cell_type": "code",
   "execution_count": null,
   "id": "47066441",
   "metadata": {},
   "outputs": [],
   "source": [
    "xr.Dataset({channel: ds.sbe()[channel] for channel in ds.sbe()})"
   ]
  },
  {
   "cell_type": "code",
   "execution_count": null,
   "id": "5166ff29",
   "metadata": {},
   "outputs": [],
   "source": [
    "print(ds)"
   ]
  },
  {
   "cell_type": "code",
   "execution_count": null,
   "id": "39e594bc",
   "metadata": {},
   "outputs": [],
   "source": [
    "print(ds.sbe)"
   ]
  },
  {
   "cell_type": "code",
   "execution_count": null,
   "id": "63a34ffc",
   "metadata": {},
   "outputs": [],
   "source": [
    "%%time\n",
    "ds.sbe.meta"
   ]
  },
  {
   "cell_type": "code",
   "execution_count": null,
   "id": "f7d509ee",
   "metadata": {},
   "outputs": [],
   "source": [
    "print(ds.sbe.meta)"
   ]
  },
  {
   "cell_type": "code",
   "execution_count": null,
   "id": "f9d3c759",
   "metadata": {},
   "outputs": [],
   "source": [
    "def metadata_wrapper(hex_data, cfg):\n",
    "    \"\"\"\n",
    "    A wrapper of sorts to handle columnar metadata in the source HEX file.\n",
    "    \"\"\"\n",
    "\n",
    "    f_s, v_s = (\n",
    "        cfg[i] for i in [\"FrequencyChannelsSuppressed\", \"VoltageWordsSuppressed\"]\n",
    "    )\n",
    "    num_f = 5 - f_s\n",
    "    num_v = 8 - v_s\n",
    "    start_byte_ix = int(num_f * 3 + num_v * 1.5)\n",
    "\n",
    "    ix_tracker = start_byte_ix\n",
    "\n",
    "    # Initialize an xarray Dataset instead of a DataArray\n",
    "    meta_out = xr.Dataset()\n",
    "    meta_out[\"scan_number\"] = xr.DataArray(\n",
    "        np.arange(1, len(hex_data) + 1), dims=[\"scan\"]\n",
    "    )\n",
    "\n",
    "    if cfg[\"NmeaPositionDataAdded\"]:\n",
    "        col_extracts = hex_data[:, ix_tracker : ix_tracker + 7].astype(int)\n",
    "        data_to_write = channels._nmeaposition(col_extracts)\n",
    "        ix_tracker += 7\n",
    "\n",
    "        for var_name, values in zip(data_to_write.coords[\"variable\"].values, data_to_write.T.values):\n",
    "            meta_out[var_name] = xr.DataArray(values, dims=[\"scan\"])\n",
    "\n",
    "    if cfg[\"NmeaTimeAdded\"]:\n",
    "        col_extracts = hex_data[:, ix_tracker : ix_tracker + 4]\n",
    "        data_to_write = channels._sbe_time(col_extracts, \"nmea\")\n",
    "        ix_tracker += 4\n",
    "\n",
    "        meta_out[\"nmea_timestamp\"] = xr.DataArray(data_to_write.values[:, 0], dims=[\"scan\"])\n",
    "\n",
    "    col_extracts = hex_data[:, ix_tracker : ix_tracker + 3]\n",
    "    data_to_write = channels._sbe9core(col_extracts)\n",
    "    ix_tracker += 3\n",
    "\n",
    "    for var_name, values in zip(data_to_write.coords[\"variable\"].values, data_to_write.T.values):\n",
    "        meta_out[var_name] = xr.DataArray(values, dims=[\"scan\"])\n",
    "\n",
    "    if cfg[\"ScanTimeAdded\"]:\n",
    "        col_extracts = hex_data[:, ix_tracker : ix_tracker + 4]\n",
    "        data_to_write = channels._sbe_time(col_extracts, \"scan\")\n",
    "        ix_tracker += 4\n",
    "\n",
    "        meta_out[\"scan_timestamp\"] = xr.DataArray(data_to_write.values[:, 0], dims=[\"scan\"])\n",
    "    else:\n",
    "        print(\"No ScanTimeAdded in XMLCON - building manually from frequency.\")\n",
    "\n",
    "    if ix_tracker > len(hex_data[0]):\n",
    "        print(\n",
    "            f\"Uh oh, might not have incremented metadata correctly.\"\n",
    "            f\" Got {ix_tracker} bytes out of a possible {len(hex_data[0])}.\"\n",
    "        )\n",
    "\n",
    "    return meta_out"
   ]
  },
  {
   "cell_type": "code",
   "execution_count": null,
   "id": "498318ec",
   "metadata": {},
   "outputs": [],
   "source": [
    "x = metadata_wrapper(ds.hex, xmlcon_box)"
   ]
  },
  {
   "cell_type": "code",
   "execution_count": null,
   "id": "8206dca4",
   "metadata": {},
   "outputs": [],
   "source": [
    "x"
   ]
  }
 ],
 "metadata": {
  "kernelspec": {
   "display_name": "ctdcal",
   "language": "python",
   "name": "python3"
  },
  "language_info": {
   "codemirror_mode": {
    "name": "ipython",
    "version": 3
   },
   "file_extension": ".py",
   "mimetype": "text/x-python",
   "name": "python",
   "nbconvert_exporter": "python",
   "pygments_lexer": "ipython3",
   "version": "3.12.4"
  }
 },
 "nbformat": 4,
 "nbformat_minor": 5
}
